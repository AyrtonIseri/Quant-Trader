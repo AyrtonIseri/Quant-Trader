{
 "cells": [
  {
   "cell_type": "code",
   "execution_count": null,
   "metadata": {},
   "outputs": [],
   "source": [
    "import pandas as pd\n",
    "pd.options.mode.chained_assignment = None\n",
    "\n",
    "import numpy as np\n",
    "import torch\n",
    "\n",
    "from torch.utils.tensorboard import SummaryWriter\n",
    "from utils.nn_data_classifier import load_data, Classifier\n",
    "from utils.preprocess import preprocess, RNNDataset\n",
    "\n",
    "writer = SummaryWriter(log_dir='logs')\n",
    "\n"
   ]
  },
  {
   "cell_type": "markdown",
   "metadata": {},
   "source": [
    "Load the dataset"
   ]
  },
  {
   "cell_type": "code",
   "execution_count": null,
   "metadata": {},
   "outputs": [],
   "source": [
    "historical_data = load_data()\n",
    "\n",
    "historical_data['minute'] = historical_data.Day.dt.minute\n",
    "historical_data = historical_data[historical_data.minute == 0]\n",
    "historical_data.drop('minute', axis=1, inplace=True)\n",
    "\n",
    "historical_data"
   ]
  },
  {
   "cell_type": "markdown",
   "metadata": {},
   "source": [
    "Classify data"
   ]
  },
  {
   "cell_type": "code",
   "execution_count": null,
   "metadata": {},
   "outputs": [],
   "source": [
    "time_outlook = 3\n",
    "classi = Classifier(historical_data)\n",
    "classified_data = classi.classify_data_strict_time(time_outlook=time_outlook)\n",
    "classified_data"
   ]
  },
  {
   "cell_type": "markdown",
   "metadata": {},
   "source": [
    "Sort data"
   ]
  },
  {
   "cell_type": "code",
   "execution_count": null,
   "metadata": {},
   "outputs": [],
   "source": [
    "data = classified_data.sort_values('Day').reset_index(drop=True)\n",
    "data"
   ]
  },
  {
   "cell_type": "code",
   "execution_count": null,
   "metadata": {},
   "outputs": [],
   "source": [
    "SEQ_LEN = 24"
   ]
  },
  {
   "cell_type": "code",
   "execution_count": null,
   "metadata": {},
   "outputs": [],
   "source": [
    "processor = preprocess(sequence_length=SEQ_LEN)\n",
    "training, validation, testing  = processor.preprocess(dataframe=data, validation_size=0.2)"
   ]
  },
  {
   "cell_type": "code",
   "execution_count": null,
   "metadata": {},
   "outputs": [],
   "source": [
    "from torch import nn\n",
    "class RNN_module(nn.Module):\n",
    "    def __init__(self, hidden_size, input_size, output_size, num_layers):\n",
    "        super(RNN_module, self).__init__()\n",
    "        self._num_layers = num_layers\n",
    "        self._input_size = input_size\n",
    "        self._hidden_size = hidden_size\n",
    "        self._output_size = output_size\n",
    "\n",
    "        self.lstm = nn.LSTM(input_size = self._input_size, hidden_size = self._hidden_size, \n",
    "                            num_layers = self._num_layers, batch_first = True)\n",
    "        self.fc = nn.Linear(in_features=self._hidden_size, out_features= self._output_size)\n",
    "\n",
    "    def __str__(self):\n",
    "        return f\"RNN LSTM Model w/ {self._input_size} features and {self._num_layers} layers and {self._hidden_size} of hidden size\"\n",
    "\n",
    "    def forward(self, input):\n",
    "        h_0 = torch.zeros(self._num_layers, input.size(0), self._hidden_size, dtype=torch.float64)\n",
    "        c_0 = torch.zeros(self._num_layers, input.size(0), self._hidden_size, dtype=torch.float64)\n",
    "\n",
    "        lstm_output, (h_n, c_n) = self.lstm(input)\n",
    "\n",
    "        pred = self.fc(lstm_output[:, -1, :])\n",
    "        \n",
    "        return pred"
   ]
  },
  {
   "cell_type": "code",
   "execution_count": null,
   "metadata": {},
   "outputs": [],
   "source": [
    "from torch.utils.data import DataLoader\n",
    "\n",
    "learning_rate = 0.01\n",
    "dim_size = training._features.size(dim=-1)\n",
    "hidden_size = 60\n",
    "batch_size = 64\n",
    "number_of_classes = training[1][1].shape[0]\n",
    "\n",
    "train_dataloader = DataLoader(training, batch_size = batch_size, shuffle = True)\n",
    "validation_dataloader = DataLoader(validation, batch_size = batch_size, shuffle = True)\n",
    "test_dataloader = DataLoader(testing, batch_size = batch_size, shuffle = False)\n",
    "\n",
    "model = RNN_module(hidden_size = hidden_size, input_size = dim_size,\n",
    "                     output_size = number_of_classes, num_layers = 1)"
   ]
  },
  {
   "cell_type": "code",
   "execution_count": null,
   "metadata": {},
   "outputs": [],
   "source": [
    "labels = training._labels\n",
    "classes, _ = torch.sort(torch.unique(labels, dim = 0))\n",
    "weights = torch.zeros((classes.shape[0],))\n",
    "\n",
    "total = len(data)\n",
    "\n",
    "for idx, _class in enumerate(classes):\n",
    "    freq = len(data[data.Classification == _class.item()])\n",
    "    weights[idx] += 1 - freq/total\n",
    "\n",
    "weights"
   ]
  },
  {
   "cell_type": "code",
   "execution_count": null,
   "metadata": {},
   "outputs": [],
   "source": [
    "# labels = training._labels\n",
    "# classes = torch.unique(labels, dim = 0)\n",
    "\n",
    "# freq = {}\n",
    "# for _class in classes:\n",
    "#     freq[_class.item()] = 0\n",
    "\n",
    "# weights = torch.zeros((classes.shape[0],))\n",
    "# total = torch.tensor(len(training))\n",
    "\n",
    "# for input in range(training._beg, training._end):\n",
    "#     _, output = torch.max(training[input][1], 0)\n",
    "#     freq[output.item()] += 1\n",
    "\n",
    "\n",
    "# for idx, _class in enumerate(classes):\n",
    "#     weights[idx] +=  1 - freq[_class.item()]/total\n",
    "\n",
    "# weights"
   ]
  },
  {
   "cell_type": "code",
   "execution_count": null,
   "metadata": {},
   "outputs": [],
   "source": [
    "criterion = nn.CrossEntropyLoss(weight=weights)\n",
    "# optimizer = torch.optim.Adam(model.parameters(), lr=0.001)"
   ]
  },
  {
   "cell_type": "code",
   "execution_count": null,
   "metadata": {},
   "outputs": [],
   "source": [
    "CHECKPOINT_PATH = './models_parameters/LSTM/checkpoints_2/'\n",
    "BEST_PATH = './models_parameters/LSTM/best_model.pth'\n",
    "\n",
    "def epoch_training(model, train_dataloader, epoch, total_epochs, optimizer):\n",
    "    running_correct = 0\n",
    "    running_loss = 0.0\n",
    "    n_of_steps = len(train_dataloader)\n",
    "\n",
    "    for current_batch, (sequence, label) in enumerate(train_dataloader):\n",
    "        #forward: we are calculating the loss given the parameters\n",
    "        outputs = model(sequence)\n",
    "        loss = criterion(input=outputs, target = label.float())\n",
    "\n",
    "        #backward: lets update the parameters given the current loss\n",
    "        optimizer.zero_grad() #nullifies the current gradients. If you don't do this, gradients will be added up (you don't want that)\n",
    "        loss.backward() #computates the bwrd-prop gradient for each model parameter\n",
    "        optimizer.step() #updates the model current parameter using the gradients.\n",
    "\n",
    "        predictions = torch.argmax(outputs, 1)\n",
    "        correct = torch.argmax(label, 1)\n",
    "\n",
    "        running_correct += (predictions == correct).sum().item()\n",
    "        running_loss += loss.item()\n",
    "\n",
    "        if (current_batch + 1) % 200 == 0:\n",
    "            print(f\"epoch {epoch+1}/{total_epochs}, current step(batch): {current_batch+1}/{n_of_steps}, loss = {loss.item():.4f} \")\n",
    "            writer.add_scalar('training loss: ', running_loss/200, epoch * n_of_steps + current_batch)\n",
    "            writer.add_scalar('accuracy: ', running_correct/200, epoch * n_of_steps + current_batch)\n",
    "            running_loss = 0.0\n",
    "            running_correct = 0\n",
    "\n",
    "    writer.add_scalar('Epoch loss: ', loss, epoch + 1)\n",
    "\n",
    "\n",
    "def epoch_validate(model, validation_dataloader, epoch, total_epochs):\n",
    "    with torch.no_grad():\n",
    "        n_corrects = 0\n",
    "        n_samples = 0\n",
    "        \n",
    "        for current_batch, (sequence, label) in enumerate(validation_dataloader):\n",
    "\n",
    "            #forward: we are calculating the loss given the parameters\n",
    "            outputs = model(sequence)\n",
    "            predictions = torch.argmax(outputs, 1)\n",
    "            \n",
    "            n_samples += outputs.shape[0]\n",
    "            n_corrects += (predictions == label).sum().item()\n",
    "\n",
    "        acc = 100.0 * n_corrects / n_samples\n",
    "\n",
    "        print(f\"epoch {epoch+1}/{total_epochs} accuracy: {acc}\")\n",
    "        writer.add_scalar('Validation Accuracy: ', acc, epoch+1)\n",
    "\n",
    "    return acc\n",
    "\n",
    "\n",
    "def train_loop(model: RNN_module, train_dataloader: DataLoader, validation_dataloader: DataLoader, epochs: int):\n",
    "    \n",
    "    max_accuracy = 0\n",
    "    is_best = False\n",
    "    optimizer = torch.optim.Adam(model.parameters(), lr=0.001)\n",
    "\n",
    "    for epoch in range(epochs):\n",
    "        epoch_training(model, train_dataloader, epoch, epochs, optimizer)\n",
    "\n",
    "        accuracy = epoch_validate(model, validation_dataloader, epoch, epochs)\n",
    "\n",
    "        if accuracy > max_accuracy:\n",
    "            is_best = True\n",
    "            max_accuracy = accuracy\n",
    "        else:\n",
    "            is_best = False\n",
    "        \n",
    "        checkpoint = {\n",
    "            'epoch': epoch+1,\n",
    "            'model_state': model.state_dict(),\n",
    "            'optim_state': optimizer.state_dict()\n",
    "        }\n",
    "\n",
    "        if is_best:\n",
    "            torch.save(checkpoint, BEST_PATH)\n",
    "        \n",
    "        torch.save(checkpoint, CHECKPOINT_PATH+f'model_{epoch+1}.pth')"
   ]
  },
  {
   "cell_type": "code",
   "execution_count": null,
   "metadata": {},
   "outputs": [],
   "source": [
    "def test_loop(test_dataloader: DataLoader, model: nn.Module):\n",
    "    with torch.no_grad():\n",
    "        n_corrects = 0\n",
    "        n_samples = 0\n",
    "\n",
    "        for current_batch, (sequence, label) in enumerate(test_dataloader):\n",
    "            #forward: we are calculating the loss given the parameters\n",
    "            outputs = model(sequence)\n",
    "            predictions = torch.argmax(outputs, 1)\n",
    "\n",
    "            n_samples += outputs.shape[0]\n",
    "            n_corrects += (predictions == label).sum().item()\n",
    "\n",
    "            if (current_batch + 1) % 200 == 0:\n",
    "                print(f\"test batch: {current_batch+1}/{len(test_dataloader)}, current accuracy: {100 * n_corrects / n_samples}\")\n",
    "\n",
    "        acc = 100.0 * n_corrects / n_samples\n",
    "        print(f\"final test accuracy: {acc}\")\n"
   ]
  },
  {
   "cell_type": "code",
   "execution_count": null,
   "metadata": {},
   "outputs": [],
   "source": [
    "c = model.state_dict()"
   ]
  },
  {
   "cell_type": "code",
   "execution_count": null,
   "metadata": {},
   "outputs": [],
   "source": [
    "epochs = 10\n",
    "train_loop(model, train_dataloader=train_dataloader, validation_dataloader = validation_dataloader, epochs=epochs)\n",
    "test_loop(test_dataloader=test_dataloader, model=model)"
   ]
  },
  {
   "cell_type": "markdown",
   "metadata": {},
   "source": [
    "Using best model in validation"
   ]
  },
  {
   "cell_type": "code",
   "execution_count": null,
   "metadata": {},
   "outputs": [],
   "source": [
    "best_model = RNN_module(hidden_size = hidden_size, input_size = dim_size,\n",
    "                     output_size = number_of_classes, num_layers = 1)\n",
    "\n",
    "checkpoint = torch.load(BEST_PATH)\n",
    "print(f'Model type: {best_model}')\n",
    "print(f'Best performing model found at {checkpoint[\"epoch\"]}ºepoch')\n",
    "\n",
    "best_model.load_state_dict(state_dict=checkpoint['model_state'], strict=True)\n",
    "best_model.eval()\n",
    "\n",
    "test_loop(test_dataloader=test_dataloader, model=best_model)"
   ]
  },
  {
   "cell_type": "code",
   "execution_count": null,
   "metadata": {},
   "outputs": [],
   "source": [
    "checkpoint = torch.load('./models_parameters/LSTM/checkpoints_2/model_1.pth')\n",
    "\n",
    "a = checkpoint['model_state']\n",
    "\n",
    "checkpoint = torch.load('./models_parameters/LSTM/checkpoints_2/model_69.pth')\n",
    "\n",
    "b = checkpoint['model_state']"
   ]
  },
  {
   "cell_type": "code",
   "execution_count": null,
   "metadata": {},
   "outputs": [],
   "source": [
    "writer.close()"
   ]
  }
 ],
 "metadata": {
  "kernelspec": {
   "display_name": "Python 3.10.4 64-bit ('Quant-Trader')",
   "language": "python",
   "name": "python3"
  },
  "language_info": {
   "codemirror_mode": {
    "name": "ipython",
    "version": 3
   },
   "file_extension": ".py",
   "mimetype": "text/x-python",
   "name": "python",
   "nbconvert_exporter": "python",
   "pygments_lexer": "ipython3",
   "version": "3.10.4"
  },
  "orig_nbformat": 4,
  "vscode": {
   "interpreter": {
    "hash": "fc0d1250504fb5812c35f9d788d06f80c95c7322289624d7d7f522231bf576a4"
   }
  }
 },
 "nbformat": 4,
 "nbformat_minor": 2
}
