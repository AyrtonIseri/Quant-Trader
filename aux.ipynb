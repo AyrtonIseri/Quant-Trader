{
 "cells": [
  {
   "cell_type": "code",
   "execution_count": 1,
   "metadata": {},
   "outputs": [],
   "source": [
    "import pandas as pd\n",
    "pd.options.mode.chained_assignment = None\n",
    "\n",
    "import numpy as np\n",
    "import torch\n",
    "\n",
    "from torch.utils.tensorboard import SummaryWriter\n",
    "from utils.nn_data_classifier import load_data, Classifier\n",
    "from utils.preprocess import preprocess, RNNDataset\n",
    "import torchvision.transforms as transforms\n",
    "import torchvision\n",
    "from torch.utils.data import DataLoader\n",
    "\n",
    "writer = SummaryWriter(log_dir='logs')\n",
    "\n"
   ]
  },
  {
   "cell_type": "markdown",
   "metadata": {},
   "source": [
    "Load the dataset"
   ]
  },
  {
   "cell_type": "code",
   "execution_count": 2,
   "metadata": {},
   "outputs": [],
   "source": [
    "train_dataset = torchvision.datasets.MNIST(root='./historicals/',\n",
    "                                           train=True,\n",
    "                                           transform=transforms.ToTensor(),\n",
    "                                           download=True)\n",
    "\n",
    "test_dataset = torchvision.datasets.MNIST(root='./historicals/',\n",
    "                                           train=False,\n",
    "                                           transform=transforms.ToTensor(),\n",
    "                                           download=True)"
   ]
  },
  {
   "cell_type": "code",
   "execution_count": 3,
   "metadata": {},
   "outputs": [],
   "source": [
    "input_size = 28\n",
    "SEQ_LEN = 28\n",
    "hidden_size = 500\n",
    "num_classes = 10\n",
    "batch_size = 64\n",
    "learning_rate = 0.001\n",
    "num_epochs = 2\n",
    "num_layers = 2"
   ]
  },
  {
   "cell_type": "code",
   "execution_count": 4,
   "metadata": {},
   "outputs": [],
   "source": [
    "train_loader = DataLoader(dataset=train_dataset,\n",
    "                          batch_size=batch_size,\n",
    "                          shuffle=True)\n",
    "\n",
    "test_loader = DataLoader(dataset=test_dataset,\n",
    "                          batch_size=batch_size,\n",
    "                          shuffle=True)"
   ]
  },
  {
   "cell_type": "markdown",
   "metadata": {},
   "source": [
    "Sort data"
   ]
  },
  {
   "cell_type": "code",
   "execution_count": 5,
   "metadata": {},
   "outputs": [],
   "source": [
    "from torch import nn\n",
    "class RNN_module(nn.Module):\n",
    "    def __init__(self, hidden_size, input_size, output_size, num_layers):\n",
    "        super(RNN_module, self).__init__()\n",
    "        self._num_layers = num_layers\n",
    "        self._input_size = input_size\n",
    "        self._hidden_size = hidden_size\n",
    "        self._output_size = output_size\n",
    "\n",
    "        self.lstm = nn.LSTM(input_size = self._input_size, hidden_size = self._hidden_size, \n",
    "                            num_layers = self._num_layers, batch_first = True)\n",
    "        self.fc = nn.Linear(in_features=self._hidden_size, out_features= self._output_size)\n",
    "\n",
    "    def __str__(self):\n",
    "        return f\"RNN LSTM Model w/ {self._input_size} features and {self._num_layers} layers and {self._hidden_size} of hidden size\"\n",
    "\n",
    "    def forward(self, input):\n",
    "        \n",
    "        h_0 = torch.zeros(self._num_layers, input.size(0), self._hidden_size, dtype=torch.float64)\n",
    "        c_0 = torch.zeros(self._num_layers, input.size(0), self._hidden_size, dtype=torch.float64)\n",
    "        lstm_output, (h_n, c_n) = self.lstm(input)\n",
    "        pred = self.fc(lstm_output[:, -1, :])\n",
    "        \n",
    "        return pred"
   ]
  },
  {
   "cell_type": "code",
   "execution_count": 6,
   "metadata": {},
   "outputs": [],
   "source": [
    "lstm_model = RNN_module(hidden_size = hidden_size, input_size = input_size,\n",
    "                     output_size = num_classes, num_layers = num_layers)\n"
   ]
  },
  {
   "cell_type": "code",
   "execution_count": 7,
   "metadata": {},
   "outputs": [],
   "source": [
    "criterion = nn.CrossEntropyLoss()\n",
    "# optimizer = torch.optim.Adam(model.parameters(), lr=0.001)"
   ]
  },
  {
   "cell_type": "code",
   "execution_count": 8,
   "metadata": {},
   "outputs": [],
   "source": [
    "CHECKPOINT_PATH = './models_parameters/MNIST/'\n",
    "BEST_PATH = './models_parameters/MNIST/best_model.pth'\n",
    "\n",
    "def epoch_training(model: RNN_module, train_dataloader, epoch, total_epochs, optimizer):\n",
    "    running_correct = 0\n",
    "    running_loss = 0.0\n",
    "    n_of_steps = len(train_dataloader)\n",
    "\n",
    "    for current_batch, (sequence, label) in enumerate(train_dataloader):\n",
    "        #forward: we are calculating the loss given the parameters\n",
    "        sequence = sequence.reshape(-1, SEQ_LEN, input_size)\n",
    "        outputs = model(sequence)\n",
    "        loss = criterion(input=outputs, target = label)\n",
    "\n",
    "        #backward: lets update the parameters given the current loss\n",
    "        optimizer.zero_grad() #nullifies the current gradients. If you don't do this, gradients will be added up (you don't want that)\n",
    "        loss.backward() #computates the bwrd-prop gradient for each model parameter\n",
    "        optimizer.step() #updates the model current parameter using the gradients.\n",
    "\n",
    "        predictions = torch.argmax(outputs, 1)\n",
    "        correct = torch.argmax(label, 0)\n",
    "\n",
    "        running_correct += (predictions == label).sum().item()\n",
    "        running_loss += loss.item()\n",
    "\n",
    "        if (current_batch + 1) % 50 == 0:\n",
    "            print(f\"epoch {epoch+1}/{total_epochs}, current step(batch): {current_batch+1}/{n_of_steps}, loss = {loss.item():.4f} \")\n",
    "            writer.add_scalar('training loss: ', running_loss/50, epoch * n_of_steps + current_batch)\n",
    "            writer.add_scalar('accuracy: ', running_correct/50, epoch * n_of_steps + current_batch)\n",
    "            running_loss = 0.0\n",
    "            running_correct = 0\n",
    "\n",
    "    writer.add_scalar('Epoch loss: ', loss, epoch + 1)\n",
    "\n",
    "\n",
    "def epoch_validate(model, validation_dataloader, epoch, total_epochs):\n",
    "    with torch.no_grad():\n",
    "        n_corrects = 0\n",
    "        n_samples = 0\n",
    "        \n",
    "        for current_batch, (sequence, label) in enumerate(validation_dataloader):\n",
    "\n",
    "            #forward: we are calculating the loss given the parameters\n",
    "            sequence = sequence.reshape(-1, SEQ_LEN, input_size)\n",
    "            outputs = model(sequence)\n",
    "            \n",
    "            predictions = torch.argmax(outputs, 1)\n",
    "            correct = torch.argmax(label, 0)\n",
    "            \n",
    "            n_samples += label.shape[0]\n",
    "            n_corrects += (predictions == label).sum().item()\n",
    "\n",
    "        acc = 100.0 * n_corrects / n_samples\n",
    "\n",
    "        print(f\"epoch {epoch+1}/{total_epochs} accuracy: {acc}\")\n",
    "        writer.add_scalar('Validation Accuracy: ', acc, epoch+1)\n",
    "\n",
    "    return acc\n",
    "\n",
    "\n",
    "def train_loop(model: RNN_module, train_dataloader: DataLoader, validation_dataloader: DataLoader, epochs: int):\n",
    "    \n",
    "    max_accuracy = 0\n",
    "    is_best = False\n",
    "    optimizer = torch.optim.Adam(model.parameters(), lr=0.001)\n",
    "\n",
    "    for epoch in range(epochs):\n",
    "        epoch_training(model, train_dataloader, epoch, epochs, optimizer)\n",
    "        accuracy = epoch_validate(model, validation_dataloader, epoch, epochs)\n",
    "\n",
    "        if accuracy > max_accuracy:\n",
    "            is_best = True\n",
    "            max_accuracy = accuracy\n",
    "        else:\n",
    "            is_best = False\n",
    "        \n",
    "        checkpoint = {\n",
    "            'epoch': epoch+1,\n",
    "            'model_state': model.state_dict(),\n",
    "            'optim_state': optimizer.state_dict()\n",
    "        }\n",
    "\n",
    "        if is_best:\n",
    "            torch.save(checkpoint, BEST_PATH)\n",
    "        \n",
    "        torch.save(checkpoint, CHECKPOINT_PATH+f'model_{epoch+1}.pth')"
   ]
  },
  {
   "cell_type": "code",
   "execution_count": 9,
   "metadata": {},
   "outputs": [],
   "source": [
    "def test_loop(test_dataloader: DataLoader, model: nn.Module):\n",
    "    with torch.no_grad():\n",
    "        n_corrects = 0\n",
    "        n_samples = 0\n",
    "\n",
    "        for current_batch, (sequence, label) in enumerate(test_dataloader):\n",
    "            #forward: we are calculating the loss given the parameters\n",
    "            outputs = model(sequence)\n",
    "            predictions = torch.argmax(outputs, 1)\n",
    "\n",
    "            n_samples += outputs.shape[0]\n",
    "            n_corrects += (predictions == label).sum().item()\n",
    "\n",
    "            if (current_batch + 1) % 200 == 0:\n",
    "                print(f\"test batch: {current_batch+1}/{len(test_dataloader)}, current accuracy: {100 * n_corrects / n_samples}\")\n",
    "\n",
    "        acc = 100.0 * n_corrects / n_samples\n",
    "        print(f\"final test accuracy: {acc}\")\n"
   ]
  },
  {
   "cell_type": "code",
   "execution_count": 10,
   "metadata": {},
   "outputs": [],
   "source": [
    "c = lstm_model.state_dict()"
   ]
  },
  {
   "cell_type": "code",
   "execution_count": 11,
   "metadata": {},
   "outputs": [
    {
     "ename": "KeyboardInterrupt",
     "evalue": "",
     "output_type": "error",
     "traceback": [
      "\u001b[0;31m---------------------------------------------------------------------------\u001b[0m",
      "\u001b[0;31mKeyboardInterrupt\u001b[0m                         Traceback (most recent call last)",
      "Cell \u001b[0;32mIn [11], line 2\u001b[0m\n\u001b[1;32m      1\u001b[0m epochs \u001b[39m=\u001b[39m \u001b[39m2\u001b[39m\n\u001b[0;32m----> 2\u001b[0m train_loop(lstm_model, train_dataloader\u001b[39m=\u001b[39;49mtrain_loader, validation_dataloader \u001b[39m=\u001b[39;49m test_loader, epochs\u001b[39m=\u001b[39;49mepochs)\n\u001b[1;32m      3\u001b[0m \u001b[39m# test_loop(test_dataloader=test_dataloader, model=model)\u001b[39;00m\n",
      "Cell \u001b[0;32mIn [8], line 68\u001b[0m, in \u001b[0;36mtrain_loop\u001b[0;34m(model, train_dataloader, validation_dataloader, epochs)\u001b[0m\n\u001b[1;32m     65\u001b[0m optimizer \u001b[39m=\u001b[39m torch\u001b[39m.\u001b[39moptim\u001b[39m.\u001b[39mAdam(model\u001b[39m.\u001b[39mparameters(), lr\u001b[39m=\u001b[39m\u001b[39m0.001\u001b[39m)\n\u001b[1;32m     67\u001b[0m \u001b[39mfor\u001b[39;00m epoch \u001b[39min\u001b[39;00m \u001b[39mrange\u001b[39m(epochs):\n\u001b[0;32m---> 68\u001b[0m     epoch_training(model, train_dataloader, epoch, epochs, optimizer)\n\u001b[1;32m     69\u001b[0m     accuracy \u001b[39m=\u001b[39m epoch_validate(model, validation_dataloader, epoch, epochs)\n\u001b[1;32m     71\u001b[0m     \u001b[39mif\u001b[39;00m accuracy \u001b[39m>\u001b[39m max_accuracy:\n",
      "Cell \u001b[0;32mIn [8], line 12\u001b[0m, in \u001b[0;36mepoch_training\u001b[0;34m(model, train_dataloader, epoch, total_epochs, optimizer)\u001b[0m\n\u001b[1;32m      9\u001b[0m \u001b[39mfor\u001b[39;00m current_batch, (sequence, label) \u001b[39min\u001b[39;00m \u001b[39menumerate\u001b[39m(train_dataloader):\n\u001b[1;32m     10\u001b[0m     \u001b[39m#forward: we are calculating the loss given the parameters\u001b[39;00m\n\u001b[1;32m     11\u001b[0m     sequence \u001b[39m=\u001b[39m sequence\u001b[39m.\u001b[39mreshape(\u001b[39m-\u001b[39m\u001b[39m1\u001b[39m, SEQ_LEN, input_size)\n\u001b[0;32m---> 12\u001b[0m     outputs \u001b[39m=\u001b[39m model(sequence)\n\u001b[1;32m     13\u001b[0m     loss \u001b[39m=\u001b[39m criterion(\u001b[39minput\u001b[39m\u001b[39m=\u001b[39moutputs, target \u001b[39m=\u001b[39m label)\n\u001b[1;32m     15\u001b[0m     \u001b[39m#backward: lets update the parameters given the current loss\u001b[39;00m\n",
      "File \u001b[0;32m~/.pyenv/versions/3.10.4/envs/Quant-Trader/lib/python3.10/site-packages/torch/nn/modules/module.py:1190\u001b[0m, in \u001b[0;36mModule._call_impl\u001b[0;34m(self, *input, **kwargs)\u001b[0m\n\u001b[1;32m   1186\u001b[0m \u001b[39m# If we don't have any hooks, we want to skip the rest of the logic in\u001b[39;00m\n\u001b[1;32m   1187\u001b[0m \u001b[39m# this function, and just call forward.\u001b[39;00m\n\u001b[1;32m   1188\u001b[0m \u001b[39mif\u001b[39;00m \u001b[39mnot\u001b[39;00m (\u001b[39mself\u001b[39m\u001b[39m.\u001b[39m_backward_hooks \u001b[39mor\u001b[39;00m \u001b[39mself\u001b[39m\u001b[39m.\u001b[39m_forward_hooks \u001b[39mor\u001b[39;00m \u001b[39mself\u001b[39m\u001b[39m.\u001b[39m_forward_pre_hooks \u001b[39mor\u001b[39;00m _global_backward_hooks\n\u001b[1;32m   1189\u001b[0m         \u001b[39mor\u001b[39;00m _global_forward_hooks \u001b[39mor\u001b[39;00m _global_forward_pre_hooks):\n\u001b[0;32m-> 1190\u001b[0m     \u001b[39mreturn\u001b[39;00m forward_call(\u001b[39m*\u001b[39;49m\u001b[39minput\u001b[39;49m, \u001b[39m*\u001b[39;49m\u001b[39m*\u001b[39;49mkwargs)\n\u001b[1;32m   1191\u001b[0m \u001b[39m# Do not call functions when jit is used\u001b[39;00m\n\u001b[1;32m   1192\u001b[0m full_backward_hooks, non_full_backward_hooks \u001b[39m=\u001b[39m [], []\n",
      "Cell \u001b[0;32mIn [5], line 21\u001b[0m, in \u001b[0;36mRNN_module.forward\u001b[0;34m(self, input)\u001b[0m\n\u001b[1;32m     19\u001b[0m h_0 \u001b[39m=\u001b[39m torch\u001b[39m.\u001b[39mzeros(\u001b[39mself\u001b[39m\u001b[39m.\u001b[39m_num_layers, \u001b[39minput\u001b[39m\u001b[39m.\u001b[39msize(\u001b[39m0\u001b[39m), \u001b[39mself\u001b[39m\u001b[39m.\u001b[39m_hidden_size, dtype\u001b[39m=\u001b[39mtorch\u001b[39m.\u001b[39mfloat64)\n\u001b[1;32m     20\u001b[0m c_0 \u001b[39m=\u001b[39m torch\u001b[39m.\u001b[39mzeros(\u001b[39mself\u001b[39m\u001b[39m.\u001b[39m_num_layers, \u001b[39minput\u001b[39m\u001b[39m.\u001b[39msize(\u001b[39m0\u001b[39m), \u001b[39mself\u001b[39m\u001b[39m.\u001b[39m_hidden_size, dtype\u001b[39m=\u001b[39mtorch\u001b[39m.\u001b[39mfloat64)\n\u001b[0;32m---> 21\u001b[0m lstm_output, (h_n, c_n) \u001b[39m=\u001b[39m \u001b[39mself\u001b[39;49m\u001b[39m.\u001b[39;49mlstm(\u001b[39minput\u001b[39;49m)\n\u001b[1;32m     22\u001b[0m pred \u001b[39m=\u001b[39m \u001b[39mself\u001b[39m\u001b[39m.\u001b[39mfc(lstm_output[:, \u001b[39m-\u001b[39m\u001b[39m1\u001b[39m, :])\n\u001b[1;32m     24\u001b[0m \u001b[39mreturn\u001b[39;00m pred\n",
      "File \u001b[0;32m~/.pyenv/versions/3.10.4/envs/Quant-Trader/lib/python3.10/site-packages/torch/nn/modules/module.py:1190\u001b[0m, in \u001b[0;36mModule._call_impl\u001b[0;34m(self, *input, **kwargs)\u001b[0m\n\u001b[1;32m   1186\u001b[0m \u001b[39m# If we don't have any hooks, we want to skip the rest of the logic in\u001b[39;00m\n\u001b[1;32m   1187\u001b[0m \u001b[39m# this function, and just call forward.\u001b[39;00m\n\u001b[1;32m   1188\u001b[0m \u001b[39mif\u001b[39;00m \u001b[39mnot\u001b[39;00m (\u001b[39mself\u001b[39m\u001b[39m.\u001b[39m_backward_hooks \u001b[39mor\u001b[39;00m \u001b[39mself\u001b[39m\u001b[39m.\u001b[39m_forward_hooks \u001b[39mor\u001b[39;00m \u001b[39mself\u001b[39m\u001b[39m.\u001b[39m_forward_pre_hooks \u001b[39mor\u001b[39;00m _global_backward_hooks\n\u001b[1;32m   1189\u001b[0m         \u001b[39mor\u001b[39;00m _global_forward_hooks \u001b[39mor\u001b[39;00m _global_forward_pre_hooks):\n\u001b[0;32m-> 1190\u001b[0m     \u001b[39mreturn\u001b[39;00m forward_call(\u001b[39m*\u001b[39;49m\u001b[39minput\u001b[39;49m, \u001b[39m*\u001b[39;49m\u001b[39m*\u001b[39;49mkwargs)\n\u001b[1;32m   1191\u001b[0m \u001b[39m# Do not call functions when jit is used\u001b[39;00m\n\u001b[1;32m   1192\u001b[0m full_backward_hooks, non_full_backward_hooks \u001b[39m=\u001b[39m [], []\n",
      "File \u001b[0;32m~/.pyenv/versions/3.10.4/envs/Quant-Trader/lib/python3.10/site-packages/torch/nn/modules/rnn.py:774\u001b[0m, in \u001b[0;36mLSTM.forward\u001b[0;34m(self, input, hx)\u001b[0m\n\u001b[1;32m    772\u001b[0m \u001b[39mself\u001b[39m\u001b[39m.\u001b[39mcheck_forward_args(\u001b[39minput\u001b[39m, hx, batch_sizes)\n\u001b[1;32m    773\u001b[0m \u001b[39mif\u001b[39;00m batch_sizes \u001b[39mis\u001b[39;00m \u001b[39mNone\u001b[39;00m:\n\u001b[0;32m--> 774\u001b[0m     result \u001b[39m=\u001b[39m _VF\u001b[39m.\u001b[39;49mlstm(\u001b[39minput\u001b[39;49m, hx, \u001b[39mself\u001b[39;49m\u001b[39m.\u001b[39;49m_flat_weights, \u001b[39mself\u001b[39;49m\u001b[39m.\u001b[39;49mbias, \u001b[39mself\u001b[39;49m\u001b[39m.\u001b[39;49mnum_layers,\n\u001b[1;32m    775\u001b[0m                       \u001b[39mself\u001b[39;49m\u001b[39m.\u001b[39;49mdropout, \u001b[39mself\u001b[39;49m\u001b[39m.\u001b[39;49mtraining, \u001b[39mself\u001b[39;49m\u001b[39m.\u001b[39;49mbidirectional, \u001b[39mself\u001b[39;49m\u001b[39m.\u001b[39;49mbatch_first)\n\u001b[1;32m    776\u001b[0m \u001b[39melse\u001b[39;00m:\n\u001b[1;32m    777\u001b[0m     result \u001b[39m=\u001b[39m _VF\u001b[39m.\u001b[39mlstm(\u001b[39minput\u001b[39m, batch_sizes, hx, \u001b[39mself\u001b[39m\u001b[39m.\u001b[39m_flat_weights, \u001b[39mself\u001b[39m\u001b[39m.\u001b[39mbias,\n\u001b[1;32m    778\u001b[0m                       \u001b[39mself\u001b[39m\u001b[39m.\u001b[39mnum_layers, \u001b[39mself\u001b[39m\u001b[39m.\u001b[39mdropout, \u001b[39mself\u001b[39m\u001b[39m.\u001b[39mtraining, \u001b[39mself\u001b[39m\u001b[39m.\u001b[39mbidirectional)\n",
      "\u001b[0;31mKeyboardInterrupt\u001b[0m: "
     ]
    }
   ],
   "source": [
    "epochs = 2\n",
    "train_loop(lstm_model, train_dataloader=train_loader, validation_dataloader = test_loader, epochs=epochs)\n",
    "# test_loop(test_dataloader=test_dataloader, model=model)"
   ]
  },
  {
   "cell_type": "markdown",
   "metadata": {},
   "source": [
    "Using best model in validation"
   ]
  },
  {
   "cell_type": "code",
   "execution_count": null,
   "metadata": {},
   "outputs": [],
   "source": [
    "best_model = RNN_module(hidden_size = hidden_size, input_size = input_size,\n",
    "                     output_size = num_classes, num_layers = num_layers)\n",
    "\n",
    "checkpoint = torch.load(BEST_PATH)\n",
    "print(f'Model type: {best_model}')\n",
    "print(f'Best performing model found at {checkpoint[\"epoch\"]}ºepoch')\n",
    "\n",
    "best_model.load_state_dict(state_dict=checkpoint['model_state'], strict=True)\n",
    "best_model.eval()\n",
    "\n",
    "# test_loop(test_dataloader=test_loader, model=best_model)"
   ]
  },
  {
   "cell_type": "code",
   "execution_count": null,
   "metadata": {},
   "outputs": [],
   "source": [
    "checkpoint = torch.load('./models_parameters/LSTM/checkpoints_2/model_1.pth')\n",
    "\n",
    "a = checkpoint['model_state']\n",
    "\n",
    "checkpoint = torch.load('./models_parameters/LSTM/checkpoints_2/model_69.pth')\n",
    "\n",
    "b = checkpoint['model_state']"
   ]
  },
  {
   "cell_type": "code",
   "execution_count": null,
   "metadata": {},
   "outputs": [],
   "source": [
    "writer.close()"
   ]
  }
 ],
 "metadata": {
  "kernelspec": {
   "display_name": "Python 3.10.4 64-bit ('Quant-Trader')",
   "language": "python",
   "name": "python3"
  },
  "language_info": {
   "codemirror_mode": {
    "name": "ipython",
    "version": 3
   },
   "file_extension": ".py",
   "mimetype": "text/x-python",
   "name": "python",
   "nbconvert_exporter": "python",
   "pygments_lexer": "ipython3",
   "version": "3.10.4"
  },
  "orig_nbformat": 4,
  "vscode": {
   "interpreter": {
    "hash": "fc0d1250504fb5812c35f9d788d06f80c95c7322289624d7d7f522231bf576a4"
   }
  }
 },
 "nbformat": 4,
 "nbformat_minor": 2
}
